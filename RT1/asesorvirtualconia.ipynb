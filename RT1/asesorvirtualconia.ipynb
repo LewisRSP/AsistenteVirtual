{
  "nbformat": 4,
  "nbformat_minor": 0,
  "metadata": {
    "colab": {
      "provenance": [],
      "authorship_tag": "ABX9TyOQQFwNtjOMqTd8PE3xykMX",
      "include_colab_link": true
    },
    "kernelspec": {
      "name": "python3",
      "display_name": "Python 3"
    },
    "language_info": {
      "name": "python"
    }
  },
  "cells": [
    {
      "cell_type": "markdown",
      "metadata": {
        "id": "view-in-github",
        "colab_type": "text"
      },
      "source": [
        "<a href=\"https://colab.research.google.com/github/LewisRSP/AsistenteVirtual/blob/main/RT1/asesorvirtualconia.ipynb\" target=\"_parent\"><img src=\"https://colab.research.google.com/assets/colab-badge.svg\" alt=\"Open In Colab\"/></a>"
      ]
    },
    {
      "cell_type": "code",
      "execution_count": null,
      "metadata": {
        "id": "tiYu8F6P2pta"
      },
      "outputs": [],
      "source": [
        "# Conexión Bluetooth\n",
        "def connect_bluetooth(COM5, 9600):\n",
        "    \"\"\"\n",
        "    Conecta al Arduino a través de Bluetooth.\n",
        "\n",
        "    Args:\n",
        "        port: Puerto serial del dispositivo Bluetooth.\n",
        "        baudrate: Velocidad de transmisión de datos.\n",
        "\n",
        "    Returns:\n",
        "        Objeto serial si la conexión es exitosa, None en caso de error.\n",
        "    \"\"\"\n",
        "    try:\n",
        "        bt = serial.Serial(port, baudrate, timeout=1)\n",
        "        print(f\"Connected to Arduino on {port}\")\n",
        "        return bt\n",
        "    except Exception as e:\n",
        "        print(f\"Error connecting to Bluetooth: {e}\")\n",
        "        return None"
      ]
    },
    {
      "cell_type": "code",
      "source": [
        "# Conexión a MySQL\n",
        "def connect_database(localhost, root, Lewis110578, mantenimiento):\n",
        "    \"\"\"\n",
        "    Conecta a la base de datos MySQL.\n",
        "\n",
        "    Args:\n",
        "        host: Dirección del servidor MySQL.\n",
        "        user: Nombre de usuario de la base de datos.\n",
        "        password: Contraseña del usuario.\n",
        "        database: Nombre de la base de datos.\n",
        "\n",
        "    Returns:\n",
        "        Objeto de conexión a la base de datos si la conexión es exitosa, None en caso de error.\n",
        "    \"\"\"\n",
        "    try:\n",
        "        db = mysql.connector.connect(\n",
        "            host=host,\n",
        "            user=user,\n",
        "            password=password,\n",
        "            database=database\n",
        "        )\n",
        "        print(\"Connected to MySQL database\")\n",
        "        return db\n",
        "    except mysql.connector.Error as e:\n",
        "        print(f\"Error connecting to MySQL: {e}\")\n",
        "        return None"
      ],
      "metadata": {
        "id": "Na09kwke272D"
      },
      "execution_count": null,
      "outputs": []
    },
    {
      "cell_type": "code",
      "source": [
        "# Procesamiento de comandos usando NLP\n",
        "def process_command(command):\n",
        "    \"\"\"\n",
        "    Utiliza un modelo de NLP para clasificar el comando.\n",
        "\n",
        "    Args:\n",
        "        command: Comando recibido del Arduino.\n",
        "\n",
        "    Returns:\n",
        "        Diccionario con la etiqueta y la confianza del resultado.\n",
        "    \"\"\"\n",
        "    nlp_model = pipeline(\"text-classification\", model=\"distilbert-base-uncased\")\n",
        "    result = nlp_model(command)\n",
        "    return result[0]"
      ],
      "metadata": {
        "id": "gVKg3LBg3AHb"
      },
      "execution_count": null,
      "outputs": []
    },
    {
      "cell_type": "code",
      "source": [
        "# Registrar información en MySQL\n",
        "def log_to_database(cursor, command, response):\n",
        "    \"\"\"\n",
        "    Registra el comando y la respuesta en la base de datos MySQL.\n",
        "\n",
        "    Args:\n",
        "        cursor: Objeto cursor de la conexión a la base de datos.\n",
        "        command: Comando recibido del Arduino.\n",
        "        response: Respuesta procesada por el modelo de NLP.\n",
        "    \"\"\"\n",
        "    try:\n",
        "        query = \"INSERT INTO maintenance_logs (command, response, timestamp) VALUES (%s, %s, NOW())\"\n",
        "        cursor.execute(query, (command, response))\n",
        "        print(\"Data logged successfully\")\n",
        "    except Exception as e:\n",
        "        print(f\"Error logging data: {e}\")"
      ],
      "metadata": {
        "id": "cUwKqvx63D2i"
      },
      "execution_count": null,
      "outputs": []
    },
    {
      "cell_type": "code",
      "source": [
        "# Main\n",
        "if __name__ == \"__main__\":\n",
        "    # Conexión Bluetooth\n",
        "    arduino_bt = connect_bluetooth(\"COM5\", 9600)  # Cambiar el puerto según el dispositivo\n",
        "\n",
        "    # Conexión MySQL\n",
        "    db_connection = connect_database(\"localhost\", \"root\", \"password\", \"maintenance_db\")\n",
        "    if db_connection:\n",
        "        cursor = db_connection.cursor()\n",
        "\n",
        "    # Procesamiento continuo\n",
        "    while True:\n",
        "        if arduino_bt and arduino_bt.in_waiting > 0:\n",
        "            # Leer mensaje de Arduino\n",
        "            command = arduino_bt.readline().decode().strip()\n",
        "            print(f\"Command received: {command}\")\n",
        "\n",
        "            # Procesar el comando\n",
        "            nlp_response = process_command(command)\n",
        "            response = nlp_response['label']\n",
        "            confidence = nlp_response['score']\n",
        "\n",
        "            # Responder al Arduino\n",
        "            response_message = f\"{response} ({confidence:.2f})\"\n",
        "            arduino_bt.write(response_message.encode())\n",
        "            print(f\"Response sent: {response_message}\")\n",
        "\n",
        "            # Loguear en MySQL\n",
        "            if db_connection:\n",
        "                log_to_database(cursor, command, response)\n",
        "                db_connection.commit()\n",
        "\n",
        "        time.sleep(1)"
      ],
      "metadata": {
        "id": "p-uE9x3I3H_a"
      },
      "execution_count": null,
      "outputs": []
    }
  ]
}